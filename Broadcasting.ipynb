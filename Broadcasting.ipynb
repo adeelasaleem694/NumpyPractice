{
 "cells": [
  {
   "cell_type": "code",
   "execution_count": 6,
   "id": "64ba9619-5e2f-433a-8f07-e8f55c4d7034",
   "metadata": {},
   "outputs": [
    {
     "name": "stdout",
     "output_type": "stream",
     "text": [
      "(7,)\n",
      "[ 2  4  6  8 10  6  4]\n"
     ]
    }
   ],
   "source": [
    "import numpy as np\n",
    "\n",
    "var1=np.array([1,2,3,4,5,3,2])\n",
    "print(var1.shape)\n",
    "var2=np.array([1,2,3,4,5,3,2])\n",
    "print(var1+var2)"
   ]
  },
  {
   "cell_type": "code",
   "execution_count": null,
   "id": "68f4d3e3-ced3-4580-8404-4a7e4a1e3fde",
   "metadata": {},
   "outputs": [],
   "source": [
    "#broadcasting\n",
    "'''must same dimension\n",
    "value commom or must have any one of them 1'''\n"
   ]
  },
  {
   "cell_type": "code",
   "execution_count": 14,
   "id": "b79b5c1e-1736-455c-829b-0b4c2fdf8eca",
   "metadata": {},
   "outputs": [
    {
     "name": "stdout",
     "output_type": "stream",
     "text": [
      "(3,)\n",
      "\n",
      "[1 2 3]\n",
      "(3, 1)\n",
      "\n",
      "[[1]\n",
      " [2]\n",
      " [3]]\n",
      "[[2 3 4]\n",
      " [3 4 5]\n",
      " [4 5 6]]\n"
     ]
    }
   ],
   "source": [
    "var3=np.array([1,2,3])\n",
    "print(var3.shape)\n",
    "print()\n",
    "print(var3)\n",
    "var4=np.array([[1],[2],[3]])\n",
    "print(var4.shape)\n",
    "print()\n",
    "print(var4)\n",
    "\n",
    "print(var3+var4)"
   ]
  },
  {
   "cell_type": "code",
   "execution_count": 22,
   "id": "f2614e9c-cb8c-4d5f-8074-1e807809c0a5",
   "metadata": {},
   "outputs": [
    {
     "name": "stdout",
     "output_type": "stream",
     "text": [
      "(2, 1)\n",
      "(2, 3)\n",
      "[[2 3 4]\n",
      " [3 4 5]]\n"
     ]
    }
   ],
   "source": [
    "x=np.array([[1],[2]])\n",
    "print(x.shape)\n",
    "y=np.array([[1,2,3],[1,2,3]])\n",
    "print(y.shape)\n",
    "print(x+y)"
   ]
  },
  {
   "cell_type": "code",
   "execution_count": 30,
   "id": "695f922e-72da-403b-8959-93c866e0d03d",
   "metadata": {},
   "outputs": [
    {
     "name": "stdout",
     "output_type": "stream",
     "text": [
      "[ 1 40  3  4  5  3  2]\n",
      "[1 2 3 4 5 3 2]\n"
     ]
    }
   ],
   "source": [
    "#copy\n",
    "var=np.array([1,2,3,4,5,3,2])\n",
    "co=var.copy()\n",
    "var[1]=40#create new array\n",
    "print(var)\n",
    "print(co)"
   ]
  },
  {
   "cell_type": "code",
   "execution_count": 34,
   "id": "b8785fa5-0aae-4c97-a0a8-42b1290a14bd",
   "metadata": {},
   "outputs": [
    {
     "name": "stdout",
     "output_type": "stream",
     "text": [
      "[ 1 40  3  4  5  3  2]\n",
      "[ 1 40  3  4  5  3  2]\n"
     ]
    }
   ],
   "source": [
    "var3=np.array([1,2,3,4,5,3,2])\n",
    "vi=var3.view() \n",
    "vi[1]=40 #view of original\n",
    "print(var3)\n",
    "print(vi)"
   ]
  },
  {
   "cell_type": "code",
   "execution_count": null,
   "id": "ac2e511b-57f9-4ee5-9d2f-1ad1990f512c",
   "metadata": {},
   "outputs": [],
   "source": []
  },
  {
   "cell_type": "code",
   "execution_count": null,
   "id": "fee97427-48d3-4fe8-9ca5-a9cfb1c8b924",
   "metadata": {},
   "outputs": [],
   "source": []
  }
 ],
 "metadata": {
  "kernelspec": {
   "display_name": "Python 3 (ipykernel)",
   "language": "python",
   "name": "python3"
  },
  "language_info": {
   "codemirror_mode": {
    "name": "ipython",
    "version": 3
   },
   "file_extension": ".py",
   "mimetype": "text/x-python",
   "name": "python",
   "nbconvert_exporter": "python",
   "pygments_lexer": "ipython3",
   "version": "3.12.7"
  }
 },
 "nbformat": 4,
 "nbformat_minor": 5
}
