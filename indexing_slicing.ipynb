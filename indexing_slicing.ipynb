{
 "cells": [
  {
   "cell_type": "code",
   "execution_count": 10,
   "id": "b1658d5b-2b9c-49ca-866f-75aebc2d5fc7",
   "metadata": {},
   "outputs": [
    {
     "name": "stdout",
     "output_type": "stream",
     "text": [
      "8\n",
      "8\n"
     ]
    }
   ],
   "source": [
    "import numpy as np\n",
    "arr1d=np.array([9,8,4,3])\n",
    "print(arr1d[1])\n",
    "print(arr1d[-3])\n"
   ]
  },
  {
   "cell_type": "code",
   "execution_count": 12,
   "id": "42bd0d59-d50a-4141-a096-343028e1de9a",
   "metadata": {},
   "outputs": [
    {
     "name": "stdout",
     "output_type": "stream",
     "text": [
      "[4 3]\n",
      "[9 8]\n",
      "[8 3]\n",
      "[3 4 8 9]\n"
     ]
    }
   ],
   "source": [
    "\n",
    "# Slice with positive indices\n",
    "print(arr1d[2:5]) \n",
    "\n",
    "# Slice with negative indices\n",
    "print(arr1d[-5:-2]) \n",
    "\n",
    "# Slicing with step\n",
    "print(arr1d[1:8:2]) \n",
    "\n",
    "# Reverse the array\n",
    "print(arr1d[::-1])  \n"
   ]
  },
  {
   "cell_type": "code",
   "execution_count": 6,
   "id": "3da82d34-d101-47d6-b732-1b5e9e5e2070",
   "metadata": {},
   "outputs": [
    {
     "name": "stdout",
     "output_type": "stream",
     "text": [
      "5\n"
     ]
    }
   ],
   "source": [
    "# Creating a 2D array\n",
    "arr2d = np.array([[0, 1, 2],\n",
    "                  [3, 4, 5],\n",
    "                  [6, 7, 8]])\n",
    "# Access a single element\n",
    "print(arr2d[1, 2]) \n"
   ]
  },
  {
   "cell_type": "code",
   "execution_count": 14,
   "id": "dc2267b6-0779-48d3-963f-0931d510fd95",
   "metadata": {},
   "outputs": [
    {
     "name": "stdout",
     "output_type": "stream",
     "text": [
      "[3 4 5]\n",
      "[[1 2]\n",
      " [4 5]]\n",
      "[1 4 7]\n",
      "[3 4 5]\n"
     ]
    }
   ],
   "source": [
    "# Slice rows\n",
    "print(arr2d[1]) \n",
    "\n",
    "# Slice a specific part\n",
    "print(arr2d[0:2, 1:3])  \n",
    "                       \n",
    "\n",
    "# Access entire rows or columns\n",
    "print(arr2d[:, 1]) \n",
    "print(arr2d[1, :]) \n"
   ]
  },
  {
   "cell_type": "code",
   "execution_count": 16,
   "id": "bf9352a6-a528-48d7-8c16-9511ee58d155",
   "metadata": {},
   "outputs": [
    {
     "name": "stdout",
     "output_type": "stream",
     "text": [
      "8\n"
     ]
    }
   ],
   "source": [
    "# Creating a 3D array\n",
    "arr3d = np.array([[[0, 1, 2],\n",
    "                   [3, 4, 5]],\n",
    "                  \n",
    "                  [[6, 7, 8],\n",
    "                   [9, 10, 11]]])\n",
    "# Access a single element\n",
    "print(arr3d[1, 0, 2])  #(second block, first row, third column)\n"
   ]
  },
  {
   "cell_type": "code",
   "execution_count": 22,
   "id": "73f3bd97-1159-45e6-b2ff-bb7785dd7619",
   "metadata": {},
   "outputs": [
    {
     "name": "stdout",
     "output_type": "stream",
     "text": [
      "[[0 1 2]\n",
      " [3 4 5]]\n",
      "\n",
      "[[ 3  4  5]\n",
      " [ 9 10 11]]\n",
      "\n",
      "[[[ 1  2]\n",
      "  [ 4  5]]\n",
      "\n",
      " [[ 7  8]\n",
      "  [10 11]]]\n"
     ]
    }
   ],
   "source": [
    "# Slice along one axis\n",
    "print(arr3d[0])  #  (first 2D block)\n",
    "print()\n",
    "# Slice specific rows and columns\n",
    "print(arr3d[:, 1, :]) # (all blocks, second row)\n",
    "print()\n",
    "# Slice specific parts across dimensions\n",
    "print(arr3d[:, :, 1:3])  #  [[[ 1  2]\n",
    "                         #           [ 4  5]]\n",
    "                         #\n",
    "                         #          [[ 7  8]\n",
    "                         #           [10 11]]]\n"
   ]
  },
  {
   "cell_type": "code",
   "execution_count": null,
   "id": "27be985b-0b31-4aff-b894-3efcc25d7d76",
   "metadata": {},
   "outputs": [],
   "source": [
    "'''arr2d[:, 1]: Extracts the second column across all rows.\n",
    "arr2d[1, :]: Extracts the second row across all columns.'''\n",
    "\n",
    "'''arr3d[:, :, 1:3]:\n",
    "Selects all blocks, all rows, and the second and third columns.'''"
   ]
  }
 ],
 "metadata": {
  "kernelspec": {
   "display_name": "Python 3 (ipykernel)",
   "language": "python",
   "name": "python3"
  },
  "language_info": {
   "codemirror_mode": {
    "name": "ipython",
    "version": 3
   },
   "file_extension": ".py",
   "mimetype": "text/x-python",
   "name": "python",
   "nbconvert_exporter": "python",
   "pygments_lexer": "ipython3",
   "version": "3.12.7"
  }
 },
 "nbformat": 4,
 "nbformat_minor": 5
}
