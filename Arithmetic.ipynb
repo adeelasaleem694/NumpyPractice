{
 "cells": [
  {
   "cell_type": "markdown",
   "id": "6d2e5322-7018-4602-8171-a1247d097a97",
   "metadata": {},
   "source": [
    "Arithmetic operations"
   ]
  },
  {
   "cell_type": "code",
   "execution_count": 2,
   "id": "bd3fe58f-498f-4cd1-b115-1f7db29b9b3d",
   "metadata": {},
   "outputs": [
    {
     "name": "stdout",
     "output_type": "stream",
     "text": [
      "[4 5 6 7]\n"
     ]
    }
   ],
   "source": [
    "import numpy as np\n",
    "var=np.array([1,2,3,4])\n",
    "varadd=var+3\n",
    "print(varadd) #add all no by 3"
   ]
  },
  {
   "cell_type": "code",
   "execution_count": 4,
   "id": "4be1b46e-08fa-48ab-be78-c46990c4d8cc",
   "metadata": {},
   "outputs": [
    {
     "name": "stdout",
     "output_type": "stream",
     "text": [
      "[2 4 6 8]\n"
     ]
    }
   ],
   "source": [
    "var1=np.array([1,2,3,4])\n",
    "var2=np.array([1,2,3,4])\n",
    "varadd=var1+var2\n",
    "print(varadd)"
   ]
  },
  {
   "cell_type": "code",
   "execution_count": 14,
   "id": "cf69f8ca-cf9e-401d-8cd3-3a8ce5226f77",
   "metadata": {},
   "outputs": [
    {
     "name": "stdout",
     "output_type": "stream",
     "text": [
      "[2 4 6 8]\n"
     ]
    }
   ],
   "source": [
    "#by function\n",
    "var1=np.array([1,2,3,4])\n",
    "var2=np.array([1,2,3,4])\n",
    "varadd=np.add(var1,var2)\n",
    "print(varadd)"
   ]
  },
  {
   "cell_type": "code",
   "execution_count": 6,
   "id": "6c54e736-8ea0-4463-8721-cd0f49693ed4",
   "metadata": {},
   "outputs": [
    {
     "name": "stdout",
     "output_type": "stream",
     "text": [
      "[-2 -1  0  1]\n"
     ]
    }
   ],
   "source": [
    "var=np.array([1,2,3,4])\n",
    "varadd=var -3\n",
    "print(varadd) "
   ]
  },
  {
   "cell_type": "code",
   "execution_count": 16,
   "id": "267a6081-8f74-4e48-9e1c-5cc9b0d195e7",
   "metadata": {},
   "outputs": [
    {
     "name": "stdout",
     "output_type": "stream",
     "text": [
      "[-2 -1  0  1]\n"
     ]
    }
   ],
   "source": [
    "var=np.array([1,2,3,4])\n",
    "varadd=np.subtract(var ,3)\n",
    "print(varadd) "
   ]
  },
  {
   "cell_type": "code",
   "execution_count": 8,
   "id": "4379325b-a0ed-4dd7-a4dd-f38847e94e0f",
   "metadata": {},
   "outputs": [
    {
     "name": "stdout",
     "output_type": "stream",
     "text": [
      "[ 3  6  9 12]\n"
     ]
    }
   ],
   "source": [
    "var=np.array([1,2,3,4])\n",
    "varadd=var *3\n",
    "print(varadd) "
   ]
  },
  {
   "cell_type": "code",
   "execution_count": 10,
   "id": "33ff44ff-fbfc-4880-a56c-5728bfff55d3",
   "metadata": {},
   "outputs": [
    {
     "name": "stdout",
     "output_type": "stream",
     "text": [
      "[0.33333333 0.66666667 1.         1.33333333]\n"
     ]
    }
   ],
   "source": [
    "var=np.array([1,2,3,4])\n",
    "varadd=var /3\n",
    "print(varadd) "
   ]
  },
  {
   "cell_type": "code",
   "execution_count": 12,
   "id": "2f47b681-5c2f-4b08-8de9-92d1fb7d2822",
   "metadata": {},
   "outputs": [
    {
     "name": "stdout",
     "output_type": "stream",
     "text": [
      "[1 2 0 1]\n"
     ]
    }
   ],
   "source": [
    "var=np.array([1,2,3,4])\n",
    "varadd=var %3\n",
    "print(varadd) "
   ]
  },
  {
   "cell_type": "code",
   "execution_count": 24,
   "id": "494e179a-786a-465e-89cd-6d2138c9e99c",
   "metadata": {},
   "outputs": [
    {
     "name": "stdout",
     "output_type": "stream",
     "text": [
      "[1 0 0 0]\n"
     ]
    }
   ],
   "source": [
    "var=np.array([1,2,3,4])\n",
    "varadd=np.reciprocal(var)\n",
    "print(varadd) "
   ]
  },
  {
   "cell_type": "markdown",
   "id": "41e08a23-3c41-4473-a2a4-a3aa08e82f45",
   "metadata": {},
   "source": [
    "\n",
    "2D array\n",
    "\n"
   ]
  },
  {
   "cell_type": "code",
   "execution_count": 20,
   "id": "37fee99e-adf8-4702-b8f0-bdb283c9ea96",
   "metadata": {},
   "outputs": [
    {
     "name": "stdout",
     "output_type": "stream",
     "text": [
      "[[1 2 3 4]\n",
      " [1 2 3 4]]\n",
      "\n",
      "[[1 2 3 4]\n",
      " [1 2 3 4]]\n",
      "\n",
      "[[2 4 6 8]\n",
      " [2 4 6 8]]\n"
     ]
    }
   ],
   "source": [
    "var21=np.array([[1,2,3,4],[1,2,3,4]])\n",
    "var22=np.array([[1,2,3,4],[1,2,3,4]])\n",
    "print(var21)\n",
    "print()\n",
    "print(var22)\n",
    "print()\n",
    "varadd=var21 + var22\n",
    "print(varadd) "
   ]
  },
  {
   "cell_type": "code",
   "execution_count": 22,
   "id": "4e470017-700e-4f3b-8605-cc17d09dd78c",
   "metadata": {},
   "outputs": [
    {
     "name": "stdout",
     "output_type": "stream",
     "text": [
      "[[1 2 3 4]\n",
      " [1 2 3 4]]\n",
      "\n",
      "[[1 2 3 4]\n",
      " [1 2 3 4]]\n",
      "\n",
      "[[ 1  4  9 16]\n",
      " [ 1  4  9 16]]\n"
     ]
    }
   ],
   "source": [
    "var21=np.array([[1,2,3,4],[1,2,3,4]])\n",
    "var22=np.array([[1,2,3,4],[1,2,3,4]])\n",
    "print(var21)\n",
    "print()\n",
    "print(var22)\n",
    "print()\n",
    "varadd=var21 * var22\n",
    "print(varadd) "
   ]
  },
  {
   "cell_type": "code",
   "execution_count": null,
   "id": "88f8d44c-fb43-4b1d-95eb-75acfa61b960",
   "metadata": {},
   "outputs": [],
   "source": []
  },
  {
   "cell_type": "code",
   "execution_count": null,
   "id": "8ff6a6e2-cd88-4754-bf6c-cf322b670e94",
   "metadata": {},
   "outputs": [],
   "source": []
  },
  {
   "cell_type": "code",
   "execution_count": null,
   "id": "acb0338a-ad0d-4bd5-80fb-a2d6fe3c25fc",
   "metadata": {},
   "outputs": [],
   "source": []
  }
 ],
 "metadata": {
  "kernelspec": {
   "display_name": "Python 3 (ipykernel)",
   "language": "python",
   "name": "python3"
  },
  "language_info": {
   "codemirror_mode": {
    "name": "ipython",
    "version": 3
   },
   "file_extension": ".py",
   "mimetype": "text/x-python",
   "name": "python",
   "nbconvert_exporter": "python",
   "pygments_lexer": "ipython3",
   "version": "3.12.7"
  }
 },
 "nbformat": 4,
 "nbformat_minor": 5
}
