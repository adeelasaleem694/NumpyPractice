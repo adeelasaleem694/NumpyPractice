{
 "cells": [
  {
   "cell_type": "code",
   "execution_count": 13,
   "id": "ff085851-4a34-4ebf-932b-17846ac4f576",
   "metadata": {},
   "outputs": [
    {
     "name": "stdout",
     "output_type": "stream",
     "text": [
      "1\n",
      "[1.         1.41421356 1.73205081 2.         2.23606798 1.73205081\n",
      " 1.41421356]\n"
     ]
    }
   ],
   "source": [
    "import numpy as np\n",
    "#min\n",
    "var=np.array([1,2,3,4,5,3,2])\n",
    "print(np.min(var))\n",
    "print(np.sqrt(var))"
   ]
  },
  {
   "cell_type": "code",
   "execution_count": 3,
   "id": "1c62ed7b-4f38-484a-b58b-5af7f48a689f",
   "metadata": {},
   "outputs": [
    {
     "name": "stdout",
     "output_type": "stream",
     "text": [
      "5\n"
     ]
    }
   ],
   "source": [
    "#max\n",
    "import numpy as np\n",
    "var=np.array([1,2,3,4,5,3,2])\n",
    "print(np.max(var))"
   ]
  },
  {
   "cell_type": "code",
   "execution_count": 5,
   "id": "6b63e145-f300-4b42-b194-802e9bc1ac15",
   "metadata": {},
   "outputs": [
    {
     "name": "stdout",
     "output_type": "stream",
     "text": [
      "0\n"
     ]
    }
   ],
   "source": [
    "import numpy as np\n",
    "var=np.array([1,2,3,4,5,3,2])\n",
    "print(np.argmin(var))"
   ]
  },
  {
   "cell_type": "code",
   "execution_count": 7,
   "id": "912041c3-ed96-4b1f-9741-a83bea762133",
   "metadata": {},
   "outputs": [
    {
     "name": "stdout",
     "output_type": "stream",
     "text": [
      "4\n"
     ]
    }
   ],
   "source": [
    "import numpy as np\n",
    "var=np.array([1,2,3,4,5,3,2])\n",
    "print(np.argmax(var))"
   ]
  },
  {
   "cell_type": "code",
   "execution_count": 11,
   "id": "6567c4b9-751b-4821-8e8d-75958c665c95",
   "metadata": {},
   "outputs": [
    {
     "name": "stdout",
     "output_type": "stream",
     "text": [
      "[1 5]\n",
      "[2 1 3]\n"
     ]
    }
   ],
   "source": [
    "var1=np.array([[2,1,3],[9,5,6]])  #axis=0 for column\n",
    "print(np.min(var1,axis=1))\n",
    "print(np.min(var1,axis=0))"
   ]
  },
  {
   "cell_type": "code",
   "execution_count": 17,
   "id": "0879a182-cdbc-49d6-a671-48e8772e436a",
   "metadata": {},
   "outputs": [
    {
     "name": "stdout",
     "output_type": "stream",
     "text": [
      "[0.84147098 0.90929743 0.14112001]\n",
      "[ 0.54030231 -0.41614684 -0.9899925 ]\n"
     ]
    }
   ],
   "source": [
    "var2=np.array([1,2,3])\n",
    "print(np.sin(var2))\n",
    "print(np.cos(var2))\n"
   ]
  },
  {
   "cell_type": "code",
   "execution_count": 19,
   "id": "54ef4e80-a58a-4a1b-a9ea-3d4709bec14e",
   "metadata": {},
   "outputs": [
    {
     "name": "stdout",
     "output_type": "stream",
     "text": [
      "[1 3 6]\n"
     ]
    }
   ],
   "source": [
    "print(np.cumsum(var2))"
   ]
  },
  {
   "cell_type": "code",
   "execution_count": 39,
   "id": "03298483-c521-456e-be64-f96f3bfc5802",
   "metadata": {},
   "outputs": [
    {
     "name": "stdout",
     "output_type": "stream",
     "text": [
      "[ 1  2  3  4  5  7  5  8  9 63  4  3]\n",
      "[[[ 1  2]\n",
      "  [ 3  4]]\n",
      "\n",
      " [[ 5  7]\n",
      "  [ 5  8]]\n",
      "\n",
      " [[ 9 63]\n",
      "  [ 4  3]]]\n",
      "3\n",
      "[ 1  2  3  4  5  7  5  8  9 63  4  3]\n",
      "1\n"
     ]
    }
   ],
   "source": [
    "#reshape\n",
    "var3=np.array([1,2,3,4,5,7,5,8,9,63,4,3])\n",
    "print(var3)\n",
    "x=var3.reshape(3,2,2) #reshape into 2\n",
    "print(x) \n",
    "print(x.ndim)\n",
    "x1=var3.reshape(-1) #reshape into original\n",
    "print(x1) \n",
    "print(x1.ndim)"
   ]
  },
  {
   "cell_type": "code",
   "execution_count": null,
   "id": "de8f581f-9185-41ee-8eb8-f080759a27e0",
   "metadata": {},
   "outputs": [],
   "source": []
  },
  {
   "cell_type": "code",
   "execution_count": null,
   "id": "29540a16-b8fb-4ba5-96e1-30083c8ad515",
   "metadata": {},
   "outputs": [],
   "source": []
  }
 ],
 "metadata": {
  "kernelspec": {
   "display_name": "Python 3 (ipykernel)",
   "language": "python",
   "name": "python3"
  },
  "language_info": {
   "codemirror_mode": {
    "name": "ipython",
    "version": 3
   },
   "file_extension": ".py",
   "mimetype": "text/x-python",
   "name": "python",
   "nbconvert_exporter": "python",
   "pygments_lexer": "ipython3",
   "version": "3.12.7"
  }
 },
 "nbformat": 4,
 "nbformat_minor": 5
}
