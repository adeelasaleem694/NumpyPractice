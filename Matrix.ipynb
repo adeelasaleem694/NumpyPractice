{
 "cells": [
  {
   "cell_type": "code",
   "execution_count": 7,
   "id": "0b159fe0-2ecd-43f9-8a40-2a6ffb5fdd9d",
   "metadata": {},
   "outputs": [
    {
     "name": "stdout",
     "output_type": "stream",
     "text": [
      "[[1 2 3]\n",
      " [1 2 3]]\n",
      "\n",
      "[[1 2 3]\n",
      " [1 2 3]]\n",
      "\n",
      "Type of 'array': <class 'numpy.ndarray'>\n",
      "Type of 'matrix': <class 'numpy.matrix'>\n"
     ]
    }
   ],
   "source": [
    "import numpy as np\n",
    "\n",
    "# Define a NumPy array\n",
    "array = np.array([[1, 2,3], [1,2,3]])\n",
    "\n",
    "# Define a NumPy matrix\n",
    "matrix = np.matrix([[1, 2,3], [1,2,3]])\n",
    "print(array)\n",
    "print()\n",
    "print(matrix)\n",
    "print()\n",
    "# Check types\n",
    "print(\"Type of 'array':\", type(array))   \n",
    "print(\"Type of 'matrix':\", type(matrix))\n"
   ]
  },
  {
   "cell_type": "code",
   "execution_count": 11,
   "id": "d3fa63a8-ce04-4f9e-b9b6-4ada8131e643",
   "metadata": {},
   "outputs": [
    {
     "name": "stdout",
     "output_type": "stream",
     "text": [
      "[[1 2]\n",
      " [3 4]]\n",
      "[[1 2]\n",
      " [3 4]]\n",
      "\n",
      "Addition:\n",
      "Array:\n",
      " [[2 4]\n",
      " [6 8]]\n",
      "Matrix:\n",
      " [[2 4]\n",
      " [6 8]]\n",
      "\n",
      "Subtraction:\n",
      "Array:\n",
      " [[0 0]\n",
      " [0 0]]\n",
      "Matrix:\n",
      " [[0 0]\n",
      " [0 0]]\n",
      "\n",
      "Element-wise Multiplication:\n",
      "Array:\n",
      " [[ 1  4]\n",
      " [ 9 16]]\n",
      "Matrix:\n",
      " [[ 1  4]\n",
      " [ 9 16]]\n",
      "\n",
      "Matrix Multiplication:\n",
      "Array (dot product):\n",
      " [[ 7 10]\n",
      " [15 22]]\n",
      "Matrix (dot product):\n",
      " [[ 7 10]\n",
      " [15 22]]\n",
      "\n",
      "Division by 2:\n",
      "Array:\n",
      " [[0.5 1. ]\n",
      " [1.5 2. ]]\n",
      "Matrix:\n",
      " [[0.5 1. ]\n",
      " [1.5 2. ]]\n"
     ]
    }
   ],
   "source": [
    "#Arithmetic \n",
    "import numpy as np\n",
    "\n",
    "array = np.array([[1, 2], [3, 4]])\n",
    "\n",
    "\n",
    "matrix = np.matrix([[1, 2], [3, 4]])\n",
    "\n",
    "print( array)\n",
    "print( matrix)\n",
    "\n",
    "# Addition\n",
    "array_addition = array + array\n",
    "matrix_addition = matrix + matrix\n",
    "print(\"\\nAddition:\")\n",
    "print(\"Array:\\n\", array_addition)\n",
    "print(\"Matrix:\\n\", matrix_addition)\n",
    "\n",
    "# Subtraction\n",
    "array_subtraction = array - array\n",
    "matrix_subtraction = matrix - matrix\n",
    "print(\"\\nSubtraction:\")\n",
    "print(\"Array:\\n\", array_subtraction)\n",
    "print(\"Matrix:\\n\", matrix_subtraction)\n",
    "\n",
    "# Element-wise Multiplication\n",
    "array_multiplication = array * array  # Element-wise for arrays\n",
    "matrix_multiplication = np.multiply(matrix, matrix)  # Element-wise for matrices\n",
    "print(\"\\nElement-wise Multiplication:\")\n",
    "print(\"Array:\\n\", array_multiplication)\n",
    "print(\"Matrix:\\n\", matrix_multiplication)\n",
    "\n",
    "# Matrix Multiplication\n",
    "array_dot_product = array @ array  # or np.matmul(array, array)\n",
    "matrix_dot_product = matrix * matrix  # Matrix multiplication for matrices\n",
    "print(\"\\nMatrix Multiplication:\")\n",
    "print(\"Array (dot product):\\n\", array_dot_product)\n",
    "print(\"Matrix (dot product):\\n\", matrix_dot_product)\n",
    "\n",
    "# Division\n",
    "array_division = array / 2\n",
    "matrix_division = matrix / 2\n",
    "print(\"\\nDivision by 2:\")\n",
    "print(\"Array:\\n\", array_division)\n",
    "print(\"Matrix:\\n\", matrix_division)\n"
   ]
  },
  {
   "cell_type": "code",
   "execution_count": 19,
   "id": "693e9251-7055-41cb-865e-965b6413e265",
   "metadata": {},
   "outputs": [
    {
     "name": "stdout",
     "output_type": "stream",
     "text": [
      "Original Matrix:\n",
      " [[1 2 3]\n",
      " [4 5 6]\n",
      " [7 8 9]]\n",
      "Transpose of the Matrix:\n",
      " [[1 4 7]\n",
      " [2 5 8]\n",
      " [3 6 9]]\n",
      "\n",
      "[[1 4 7]\n",
      " [2 5 8]\n",
      " [3 6 9]]\n"
     ]
    }
   ],
   "source": [
    "# Transpose of a Matrix\n",
    "\n",
    "\n",
    "# Define a matrix\n",
    "matrix = np.array([[1, 2, 3], [4, 5, 6], [7, 8, 9]])\n",
    "\n",
    "# Transpose\n",
    "transpose_matrix = matrix.T\n",
    "\n",
    "\n",
    "\n",
    "print(\"Original Matrix:\\n\", matrix)\n",
    "print(\"Transpose of the Matrix:\\n\", transpose_matrix)\n",
    "print()\n",
    "print(np.transpose(matrix))"
   ]
  },
  {
   "cell_type": "code",
   "execution_count": 21,
   "id": "87410434-e9e1-4bc2-81ce-084adfd86512",
   "metadata": {},
   "outputs": [
    {
     "name": "stdout",
     "output_type": "stream",
     "text": [
      "Matrix after Swapping Axes:\n",
      " [[1 4 7]\n",
      " [2 5 8]\n",
      " [3 6 9]]\n"
     ]
    }
   ],
   "source": [
    "#. Swap Axes of a Matrix\n",
    "\n",
    "swapped_matrix = np.swapaxes(matrix, 0, 1)\n",
    "\n",
    "print(\"Matrix after Swapping Axes:\\n\", swapped_matrix)\n"
   ]
  },
  {
   "cell_type": "code",
   "execution_count": 23,
   "id": "ad2ead89-1c14-42c9-9aba-a3ccf5d40dba",
   "metadata": {},
   "outputs": [
    {
     "name": "stdout",
     "output_type": "stream",
     "text": [
      "Original Matrix:\n",
      " [[4 7]\n",
      " [2 6]]\n",
      "Inverse of the Matrix:\n",
      " [[ 0.6 -0.7]\n",
      " [-0.2  0.4]]\n"
     ]
    }
   ],
   "source": [
    "#3. Inverse of a Matrix\n",
    "# Define a square matrix\n",
    "square_matrix = np.array([[4, 7], [2, 6]])\n",
    "\n",
    "# Inverse\n",
    "try:\n",
    "    inverse_matrix = np.linalg.inv(square_matrix)\n",
    "    print(\"Original Matrix:\\n\", square_matrix)\n",
    "    print(\"Inverse of the Matrix:\\n\", inverse_matrix)\n",
    "except np.linalg.LinAlgError:\n",
    "    print(\"Matrix is singular and cannot be inverted.\")\n"
   ]
  },
  {
   "cell_type": "code",
   "execution_count": 37,
   "id": "a6a2288f-4380-4a7c-b251-a941a5a869cf",
   "metadata": {},
   "outputs": [
    {
     "name": "stdout",
     "output_type": "stream",
     "text": [
      "Matrix raised to power 2:\n",
      " [[30 70]\n",
      " [20 50]]\n",
      "\n",
      "Matrix raised to power 0 (Identity Matrix):\n",
      " [[1 0]\n",
      " [0 1]]\n",
      "\n",
      "Matrix raised to power -2 (Inverse Squared):\n",
      " [[ 0.5 -0.7]\n",
      " [-0.2  0.3]]\n",
      "\n",
      "Original Matrix:\n",
      " [[4 7]\n",
      " [2 6]]\n"
     ]
    }
   ],
   "source": [
    "#. Matrix Power\n",
    "\n",
    "\n",
    "\n",
    "# Define a square matrix\n",
    "square_matrix = np.array([[4, 7], [2, 6]])\n",
    "\n",
    "# Compute the power of the matrix\n",
    "# Power of 2\n",
    "matrix_power_2 = np.linalg.matrix_power(square_matrix, 2)\n",
    "print(\"Matrix raised to power 2:\\n\", matrix_power_2)\n",
    "\n",
    "# Power of 0 (Identity Matrix)\n",
    "matrix_power_0 = np.linalg.matrix_power(square_matrix, 0)\n",
    "print(\"\\nMatrix raised to power 0 (Identity Matrix):\\n\", matrix_power_0)\n",
    "\n",
    "# Power of -2 (Inverse Squared)\n",
    "try:\n",
    "    matrix_power_neg2 = np.linalg.matrix_power(square_matrix, -2)\n",
    "    print(\"\\nMatrix raised to power -2 (Inverse Squared):\\n\", matrix_power_neg2)\n",
    "except np.linalg.LinAlgError:\n",
    "    print(\"\\nMatrix is singular and cannot be inverted for negative powers.\")\n",
    "\n",
    "# Display the original matrix for reference\n",
    "print(\"\\nOriginal Matrix:\\n\", square_matrix)\n"
   ]
  },
  {
   "cell_type": "code",
   "execution_count": 35,
   "id": "8b1ac86f-f3e4-4d6a-bedb-57271862e000",
   "metadata": {},
   "outputs": [
    {
     "name": "stdout",
     "output_type": "stream",
     "text": [
      "Matrix:\n",
      " [[4 7]\n",
      " [2 6]]\n",
      "Determinant of the Matrix:\n",
      " 10.000000000000002\n"
     ]
    }
   ],
   "source": [
    "#Determinant of a Matrix\n",
    "\n",
    "determinant = np.linalg.det(square_matrix)\n",
    "\n",
    "print(\"Matrix:\\n\", square_matrix)\n",
    "print(\"Determinant of the Matrix:\\n\", determinant)\n"
   ]
  }
 ],
 "metadata": {
  "kernelspec": {
   "display_name": "Python 3 (ipykernel)",
   "language": "python",
   "name": "python3"
  },
  "language_info": {
   "codemirror_mode": {
    "name": "ipython",
    "version": 3
   },
   "file_extension": ".py",
   "mimetype": "text/x-python",
   "name": "python",
   "nbconvert_exporter": "python",
   "pygments_lexer": "ipython3",
   "version": "3.12.7"
  }
 },
 "nbformat": 4,
 "nbformat_minor": 5
}
