{
 "cells": [
  {
   "cell_type": "code",
   "execution_count": 3,
   "id": "f65aa90e-02b7-4b45-a3e4-a4512660b5fc",
   "metadata": {},
   "outputs": [
    {
     "name": "stdout",
     "output_type": "stream",
     "text": [
      "[2.12199579e-314 6.95293141e-310 6.60071703e-321 6.95293141e-310]\n"
     ]
    }
   ],
   "source": [
    "import numpy as np\n",
    "#empty \n",
    "ar_em=np.empty(4)\n",
    "print(ar_em)"
   ]
  },
  {
   "cell_type": "code",
   "execution_count": 5,
   "id": "d57d9915-7eda-460d-a8fc-df65571c38bf",
   "metadata": {},
   "outputs": [
    {
     "name": "stdout",
     "output_type": "stream",
     "text": [
      "[0 1 2 3]\n"
     ]
    }
   ],
   "source": [
    "ar_rn=np.arange(4)\n",
    "print(ar_rn)"
   ]
  },
  {
   "cell_type": "code",
   "execution_count": 7,
   "id": "b8056afa-04e4-4138-82c6-7ec6ebad778e",
   "metadata": {},
   "outputs": [
    {
     "data": {
      "text/plain": [
       "array([[1., 0., 0.],\n",
       "       [0., 1., 0.],\n",
       "       [0., 0., 1.]])"
      ]
     },
     "execution_count": 7,
     "metadata": {},
     "output_type": "execute_result"
    }
   ],
   "source": [
    "#diagonal\n",
    "ar_dia=np.eye(3)\n",
    "ar_dia"
   ]
  },
  {
   "cell_type": "code",
   "execution_count": 9,
   "id": "09704e0a-b9a3-4501-9de0-57749242df31",
   "metadata": {},
   "outputs": [
    {
     "data": {
      "text/plain": [
       "array([[1., 0., 0., 0., 0.],\n",
       "       [0., 1., 0., 0., 0.],\n",
       "       [0., 0., 1., 0., 0.]])"
      ]
     },
     "execution_count": 9,
     "metadata": {},
     "output_type": "execute_result"
    }
   ],
   "source": [
    "#diagonal\n",
    "ar_dia=np.eye(3,5)\n",
    "ar_dia"
   ]
  },
  {
   "cell_type": "code",
   "execution_count": 13,
   "id": "494e4ff6-3f98-47fa-94e0-54161b9f7022",
   "metadata": {},
   "outputs": [
    {
     "data": {
      "text/plain": [
       "array([ 1.  ,  5.75, 10.5 , 15.25, 20.  ])"
      ]
     },
     "execution_count": 13,
     "metadata": {},
     "output_type": "execute_result"
    }
   ],
   "source": [
    "#linspace\n",
    "ar_lin=np.linspace(1,20,num=5)\n",
    "ar_lin"
   ]
  },
  {
   "cell_type": "markdown",
   "id": "822b4384-6fea-4b76-ba79-7e33777ee53e",
   "metadata": {},
   "source": [
    "\n",
    "Random\n"
   ]
  },
  {
   "cell_type": "code",
   "execution_count": 17,
   "id": "5f1cf5ac-004c-4476-a4ac-d83049f71745",
   "metadata": {},
   "outputs": [
    {
     "data": {
      "text/plain": [
       "array([0.75674039, 0.91620332, 0.41667251, 0.53773573])"
      ]
     },
     "execution_count": 17,
     "metadata": {},
     "output_type": "execute_result"
    }
   ],
   "source": [
    "#with random numbers\n",
    "#rand() 0--1\n",
    "var=np.random.rand(4)\n",
    "var"
   ]
  },
  {
   "cell_type": "code",
   "execution_count": 25,
   "id": "26bacd0c-00c2-4021-b8cf-5605bc2df87c",
   "metadata": {},
   "outputs": [
    {
     "name": "stdout",
     "output_type": "stream",
     "text": [
      "[[0.6339627  0.49314868 0.9845571  0.44504847 0.56713888]\n",
      " [0.7219261  0.53684629 0.9913593  0.78739855 0.83717472]]\n"
     ]
    }
   ],
   "source": [
    "var1=np.random.rand(2,5) #2 * 5\n",
    "print(var1)"
   ]
  },
  {
   "cell_type": "code",
   "execution_count": 27,
   "id": "3b0f7f9a-c46d-4d99-9829-89de41cbc2b2",
   "metadata": {},
   "outputs": [
    {
     "data": {
      "text/plain": [
       "array([0.35214214, 0.01204121, 0.19781138, 0.53420278, 0.02399252])"
      ]
     },
     "execution_count": 27,
     "metadata": {},
     "output_type": "execute_result"
    }
   ],
   "source": [
    "#randn() --> close to zero (+ve and -ve)\n",
    "var2=np.random.rand(5)\n",
    "var2\n"
   ]
  },
  {
   "cell_type": "code",
   "execution_count": 29,
   "id": "da6269bb-890d-4f69-abd1-93697bf4f38e",
   "metadata": {},
   "outputs": [
    {
     "data": {
      "text/plain": [
       "array([0.48282709, 0.60261657, 0.61921456, 0.92012019, 0.29307018])"
      ]
     },
     "execution_count": 29,
     "metadata": {},
     "output_type": "execute_result"
    }
   ],
   "source": [
    "#ranf() --> [0 to 1) but 1 not included\n",
    "var3=np.random.ranf(5)\n",
    "var3\n"
   ]
  },
  {
   "cell_type": "code",
   "execution_count": 31,
   "id": "0228d4e3-97ba-433b-8e3f-a55183fada54",
   "metadata": {},
   "outputs": [
    {
     "data": {
      "text/plain": [
       "array([12, 10, 15,  9, 14])"
      ]
     },
     "execution_count": 31,
     "metadata": {},
     "output_type": "execute_result"
    }
   ],
   "source": [
    "#randint() in a given range (min ,max,total_value)\n",
    "var4=np.random.randint(5,20,5)\n",
    "var4\n"
   ]
  },
  {
   "cell_type": "code",
   "execution_count": null,
   "id": "9da44d26-03fa-4bec-82fc-2245888dc562",
   "metadata": {},
   "outputs": [],
   "source": [
    "\n",
    "\n",
    "\n"
   ]
  },
  {
   "cell_type": "code",
   "execution_count": null,
   "id": "4b1e9cd5-9814-4883-b4a0-0bca9837f5b4",
   "metadata": {},
   "outputs": [],
   "source": []
  },
  {
   "cell_type": "code",
   "execution_count": null,
   "id": "3a97020c-dc14-43df-aace-9efc3636d9b2",
   "metadata": {},
   "outputs": [],
   "source": []
  },
  {
   "cell_type": "code",
   "execution_count": null,
   "id": "ae2ab49e-fa94-4539-a5e0-69b6adf9b120",
   "metadata": {},
   "outputs": [],
   "source": []
  },
  {
   "cell_type": "code",
   "execution_count": null,
   "id": "f411a015-21f7-43a6-8063-71e92f9be520",
   "metadata": {},
   "outputs": [],
   "source": []
  },
  {
   "cell_type": "code",
   "execution_count": null,
   "id": "b7ef2dd4-8629-40bb-9c06-8c9b1a5d6dd3",
   "metadata": {},
   "outputs": [],
   "source": []
  },
  {
   "cell_type": "code",
   "execution_count": null,
   "id": "96a3d387-919e-4fc4-acce-032cf513623b",
   "metadata": {},
   "outputs": [],
   "source": []
  },
  {
   "cell_type": "code",
   "execution_count": null,
   "id": "d188bb79-96d7-4ae3-b707-7fc9012f0baf",
   "metadata": {},
   "outputs": [],
   "source": []
  },
  {
   "cell_type": "code",
   "execution_count": null,
   "id": "787187a5-5ddc-4f9a-aa27-d75a25053b3f",
   "metadata": {},
   "outputs": [],
   "source": []
  }
 ],
 "metadata": {
  "kernelspec": {
   "display_name": "Python 3 (ipykernel)",
   "language": "python",
   "name": "python3"
  },
  "language_info": {
   "codemirror_mode": {
    "name": "ipython",
    "version": 3
   },
   "file_extension": ".py",
   "mimetype": "text/x-python",
   "name": "python",
   "nbconvert_exporter": "python",
   "pygments_lexer": "ipython3",
   "version": "3.12.7"
  }
 },
 "nbformat": 4,
 "nbformat_minor": 5
}
