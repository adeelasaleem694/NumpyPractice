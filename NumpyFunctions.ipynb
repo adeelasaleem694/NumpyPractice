{
 "cells": [
  {
   "cell_type": "code",
   "execution_count": 1,
   "id": "39f4dde3-4607-404a-abe1-dc03821a263a",
   "metadata": {},
   "outputs": [
    {
     "name": "stdout",
     "output_type": "stream",
     "text": [
      "[1 2 3 4]\n"
     ]
    }
   ],
   "source": [
    "import numpy as np\n",
    "var=np.array([1,2,3,4])\n",
    "print(var)"
   ]
  },
  {
   "cell_type": "code",
   "execution_count": 3,
   "id": "4ebe97b2-b034-444e-b8bb-7b0b471b1a15",
   "metadata": {},
   "outputs": [
    {
     "data": {
      "text/plain": [
       "array([ 1,  2, 40,  3,  4])"
      ]
     },
     "execution_count": 3,
     "metadata": {},
     "output_type": "execute_result"
    }
   ],
   "source": [
    "np.insert(var,2,40)\n",
    "#also with np.append(var,2,40)"
   ]
  },
  {
   "cell_type": "code",
   "execution_count": 7,
   "id": "f1e0e33b-ed1c-4710-9723-9ead250859e4",
   "metadata": {},
   "outputs": [
    {
     "data": {
      "text/plain": [
       "array([1, 2, 6, 3, 4, 6])"
      ]
     },
     "execution_count": 7,
     "metadata": {},
     "output_type": "execute_result"
    }
   ],
   "source": [
    "np.insert(var,(2,4),6.5) #float value cant accpet only in int"
   ]
  },
  {
   "cell_type": "code",
   "execution_count": 11,
   "id": "e0880998-991f-457d-8bef-886d6d47229b",
   "metadata": {},
   "outputs": [
    {
     "data": {
      "text/plain": [
       "array([[1, 2, 3, 4],\n",
       "       [1, 2, 3, 4],\n",
       "       [6, 6, 6, 6]])"
      ]
     },
     "execution_count": 11,
     "metadata": {},
     "output_type": "execute_result"
    }
   ],
   "source": [
    "var1=np.array([[1,2,3,4],[1,2,3,4]])\n",
    "v1=np.insert(var1,2,6,axis=0)\n",
    "v1"
   ]
  },
  {
   "cell_type": "code",
   "execution_count": 21,
   "id": "3a9f4b6a-4729-4d19-ab0b-125803bf0433",
   "metadata": {},
   "outputs": [
    {
     "data": {
      "text/plain": [
       "array([[1, 2, 6, 3],\n",
       "       [1, 2, 6, 3]])"
      ]
     },
     "execution_count": 21,
     "metadata": {},
     "output_type": "execute_result"
    }
   ],
   "source": [
    "var1=np.array([[1,2,3],[1,2,3]])\n",
    "#also with np.append(var1,2,[22,33,24],axis=0)\n",
    "v1=np.insert(var1,2,6,axis=1)\n",
    "v1"
   ]
  },
  {
   "cell_type": "code",
   "execution_count": 25,
   "id": "19012226-eedc-49f0-9f01-e8e7f657fd1c",
   "metadata": {},
   "outputs": [
    {
     "data": {
      "text/plain": [
       "array([[1, 2, 3],\n",
       "       [1, 2, 3],\n",
       "       [6, 7, 8]])"
      ]
     },
     "execution_count": 25,
     "metadata": {},
     "output_type": "execute_result"
    }
   ],
   "source": [
    "var1=np.array([[1,2,3],[1,2,3]])\n",
    "v1=np.insert(var1,2,[6,7,8],axis=0)\n",
    "v1"
   ]
  },
  {
   "cell_type": "code",
   "execution_count": 27,
   "id": "baad05ed-6af8-4d8b-a99b-a9f8ba775359",
   "metadata": {},
   "outputs": [
    {
     "name": "stdout",
     "output_type": "stream",
     "text": [
      "[1 2 3 4]\n",
      "[1 2 4]\n"
     ]
    }
   ],
   "source": [
    "import numpy as np\n",
    "var2=np.array([1,2,3,4])\n",
    "print(var2)\n",
    "d=np.delete(var2,2)\n",
    "print(d)"
   ]
  },
  {
   "cell_type": "code",
   "execution_count": null,
   "id": "98e250b6-0bea-4396-bbce-a2eaed3ac3d8",
   "metadata": {},
   "outputs": [],
   "source": []
  }
 ],
 "metadata": {
  "kernelspec": {
   "display_name": "Python 3 (ipykernel)",
   "language": "python",
   "name": "python3"
  },
  "language_info": {
   "codemirror_mode": {
    "name": "ipython",
    "version": 3
   },
   "file_extension": ".py",
   "mimetype": "text/x-python",
   "name": "python",
   "nbconvert_exporter": "python",
   "pygments_lexer": "ipython3",
   "version": "3.12.7"
  }
 },
 "nbformat": 4,
 "nbformat_minor": 5
}
